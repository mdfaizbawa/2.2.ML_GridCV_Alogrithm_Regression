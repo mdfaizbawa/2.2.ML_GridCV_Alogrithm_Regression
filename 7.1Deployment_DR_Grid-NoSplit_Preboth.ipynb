{
 "cells": [
  {
   "cell_type": "code",
   "execution_count": 1,
   "id": "062dcdfc-bf7e-4b84-acc6-a008cae4cf32",
   "metadata": {},
   "outputs": [],
   "source": [
    "import pandas as pd\n",
    "dataset=pd.read_csv(\"50stratup.csv\")\n",
    "dataset=pd.get_dummies(dataset,dtype=int,drop_first=True)\n",
    "independent=dataset[['R&D Spend', 'Administration', 'Marketing Spend','State_Florida', 'State_New York']]\n",
    "dependent=dataset[['Profit']]"
   ]
  },
  {
   "cell_type": "code",
   "execution_count": 2,
   "id": "7ec11865-c4b0-47bc-8903-796f9e0bca43",
   "metadata": {},
   "outputs": [],
   "source": [
    "from sklearn.preprocessing import StandardScaler\n",
    "sd=StandardScaler()\n",
    "independent=sd.fit_transform(independent)\n",
    "sdy=StandardScaler()\n",
    "dependent=sdy.fit_transform(dependent)"
   ]
  },
  {
   "cell_type": "code",
   "execution_count": 3,
   "id": "6e68258f-8d4a-4476-bc13-034800d38cb2",
   "metadata": {},
   "outputs": [
    {
     "name": "stdin",
     "output_type": "stream",
     "text": [
      "R&D Spend: 145745.36\n",
      "Administration: 263257.54\n",
      "Marketing Spend: 189785.25\n",
      "State_Florida: 1\n",
      "State_New York: 0\n"
     ]
    }
   ],
   "source": [
    "rd_spend=float(input(\"R&D Spend:\"))\n",
    "administration=float(input('Administration:'))\n",
    "marketing_spend=float(input('Marketing Spend:'))\n",
    "state_Florida=int(input('State_Florida:'))\n",
    "state_New_York=int(input('State_New York:'))"
   ]
  },
  {
   "cell_type": "code",
   "execution_count": 4,
   "id": "467ed152-3b1e-4118-b333-d5ff4b36d54a",
   "metadata": {},
   "outputs": [
    {
     "name": "stderr",
     "output_type": "stream",
     "text": [
      "C:\\Anaconda3\\Lib\\site-packages\\sklearn\\base.py:493: UserWarning: X does not have valid feature names, but StandardScaler was fitted with feature names\n",
      "  warnings.warn(\n"
     ]
    },
    {
     "data": {
      "text/plain": [
       "array([[ 1.58499765,  5.11652105, -0.17544715,  1.45773797, -0.71774056]])"
      ]
     },
     "execution_count": 4,
     "metadata": {},
     "output_type": "execute_result"
    }
   ],
   "source": [
    "preinput=sd.transform([[rd_spend,administration,marketing_spend,state_Florida,state_New_York]])\n",
    "preinput"
   ]
  },
  {
   "cell_type": "code",
   "execution_count": 5,
   "id": "47cc9368-44d5-4bef-a194-ea6c1898d875",
   "metadata": {},
   "outputs": [
    {
     "data": {
      "text/plain": [
       "array([1.99942997])"
      ]
     },
     "execution_count": 5,
     "metadata": {},
     "output_type": "execute_result"
    }
   ],
   "source": [
    "import pickle\n",
    "loaded_model=pickle.load(open(\"final_model_DR.sav\",'rb'))\n",
    "result=loaded_model.predict(preinput)\n",
    "result"
   ]
  },
  {
   "cell_type": "code",
   "execution_count": 6,
   "id": "e69e214c-5b51-4798-b107-05e87e60b008",
   "metadata": {},
   "outputs": [
    {
     "data": {
      "text/plain": [
       "array([[191792.06]])"
      ]
     },
     "execution_count": 6,
     "metadata": {},
     "output_type": "execute_result"
    }
   ],
   "source": [
    "preoutput=sdy.inverse_transform([result])\n",
    "preoutput"
   ]
  }
 ],
 "metadata": {
  "kernelspec": {
   "display_name": "Python 3 (ipykernel)",
   "language": "python",
   "name": "python3"
  },
  "language_info": {
   "codemirror_mode": {
    "name": "ipython",
    "version": 3
   },
   "file_extension": ".py",
   "mimetype": "text/x-python",
   "name": "python",
   "nbconvert_exporter": "python",
   "pygments_lexer": "ipython3",
   "version": "3.12.4"
  }
 },
 "nbformat": 4,
 "nbformat_minor": 5
}
